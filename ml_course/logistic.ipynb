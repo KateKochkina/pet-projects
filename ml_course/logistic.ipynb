{
 "cells": [
  {
   "cell_type": "code",
   "execution_count": 34,
   "metadata": {},
   "outputs": [],
   "source": [
    "from math import exp\n",
    "import numpy as np\n",
    "import pandas as pd\n",
    "from sklearn.metrics import roc_auc_score"
   ]
  },
  {
   "cell_type": "code",
   "execution_count": 3,
   "metadata": {},
   "outputs": [
    {
     "data": {
      "text/html": [
       "<div>\n",
       "<style scoped>\n",
       "    .dataframe tbody tr th:only-of-type {\n",
       "        vertical-align: middle;\n",
       "    }\n",
       "\n",
       "    .dataframe tbody tr th {\n",
       "        vertical-align: top;\n",
       "    }\n",
       "\n",
       "    .dataframe thead th {\n",
       "        text-align: right;\n",
       "    }\n",
       "</style>\n",
       "<table border=\"1\" class=\"dataframe\">\n",
       "  <thead>\n",
       "    <tr style=\"text-align: right;\">\n",
       "      <th></th>\n",
       "      <th>Class</th>\n",
       "      <th>1</th>\n",
       "      <th>2</th>\n",
       "    </tr>\n",
       "  </thead>\n",
       "  <tbody>\n",
       "    <tr>\n",
       "      <th>0</th>\n",
       "      <td>-1</td>\n",
       "      <td>-0.663827</td>\n",
       "      <td>-0.138526</td>\n",
       "    </tr>\n",
       "    <tr>\n",
       "      <th>1</th>\n",
       "      <td>1</td>\n",
       "      <td>1.994596</td>\n",
       "      <td>2.468025</td>\n",
       "    </tr>\n",
       "    <tr>\n",
       "      <th>2</th>\n",
       "      <td>-1</td>\n",
       "      <td>-1.247395</td>\n",
       "      <td>0.749425</td>\n",
       "    </tr>\n",
       "    <tr>\n",
       "      <th>3</th>\n",
       "      <td>1</td>\n",
       "      <td>2.309374</td>\n",
       "      <td>1.899836</td>\n",
       "    </tr>\n",
       "    <tr>\n",
       "      <th>4</th>\n",
       "      <td>1</td>\n",
       "      <td>0.849143</td>\n",
       "      <td>2.407750</td>\n",
       "    </tr>\n",
       "  </tbody>\n",
       "</table>\n",
       "</div>"
      ],
      "text/plain": [
       "   Class         1         2\n",
       "0     -1 -0.663827 -0.138526\n",
       "1      1  1.994596  2.468025\n",
       "2     -1 -1.247395  0.749425\n",
       "3      1  2.309374  1.899836\n",
       "4      1  0.849143  2.407750"
      ]
     },
     "execution_count": 3,
     "metadata": {},
     "output_type": "execute_result"
    }
   ],
   "source": [
    "df = pd.read_csv('data/data-logistic.csv', names=['Class',1,2])\n",
    "df.head()"
   ]
  },
  {
   "cell_type": "code",
   "execution_count": 4,
   "metadata": {},
   "outputs": [],
   "source": [
    "X = df.iloc[:, 1:]\n",
    "y = df['Class']"
   ]
  },
  {
   "cell_type": "code",
   "execution_count": 140,
   "metadata": {},
   "outputs": [],
   "source": [
    "l = y.size\n",
    "k = 0.1\n",
    "C = 10\n",
    "e = pow(10, -5)"
   ]
  },
  {
   "cell_type": "code",
   "execution_count": 59,
   "metadata": {},
   "outputs": [],
   "source": [
    "w = [0,0]\n",
    "\n",
    "for _ in range(10000):\n",
    "    old_w = w.copy()\n",
    "    for i in range(2):\n",
    "        s = 0\n",
    "        for j in range(0, l):\n",
    "            s += y[j] * X[i+1][j] * (1 - 1/(1 + exp(- y[j] * (old_w[0] * X[1][j] + old_w[1] * X[2][j]))))\n",
    "        w[i] += k * s/l\n",
    "    if np.linalg.norm(np.array(w) - np.array(old_w)) < e:\n",
    "        break\n",
    "        \n",
    "best_w = w"
   ]
  },
  {
   "cell_type": "code",
   "execution_count": 60,
   "metadata": {},
   "outputs": [],
   "source": [
    "w = [0,0]\n",
    "\n",
    "for _ in range(10000):\n",
    "    old_w = w.copy()\n",
    "    for i in range(2):\n",
    "        s = 0\n",
    "        for j in range(0, l):\n",
    "            s += y[j] * X[i+1][j] * (1 - 1/(1 + exp(- y[j] * (old_w[0] * X[1][j] + old_w[1] * X[2][j])))) - k * C * old_w[i]\n",
    "        w[i] += k * s/l\n",
    "    if np.linalg.norm(np.array(w) - np.array(old_w)) < e:\n",
    "        break\n",
    "        \n",
    "best_w_reg = w"
   ]
  },
  {
   "cell_type": "code",
   "execution_count": 92,
   "metadata": {},
   "outputs": [],
   "source": [
    "def sigmoid(w, x):\n",
    "    return 1/(1 + exp(- w[0] * x[0] - w[1] * x[1]))"
   ]
  },
  {
   "cell_type": "code",
   "execution_count": 93,
   "metadata": {},
   "outputs": [
    {
     "data": {
      "text/plain": [
       "0.9268571428571428"
      ]
     },
     "execution_count": 93,
     "metadata": {},
     "output_type": "execute_result"
    }
   ],
   "source": [
    "est = [sigmoid(best_w, X.iloc[i, :].tolist()) for i in range(X.shape[0])]\n",
    "roc_auc_score(y, est)"
   ]
  },
  {
   "cell_type": "code",
   "execution_count": 94,
   "metadata": {},
   "outputs": [
    {
     "data": {
      "text/plain": [
       "0.9370476190476189"
      ]
     },
     "execution_count": 94,
     "metadata": {},
     "output_type": "execute_result"
    }
   ],
   "source": [
    "est = [sigmoid(best_w_reg, X.iloc[i, :].tolist()) for i in range(X.shape[0])]\n",
    "roc_auc_score(y, est)"
   ]
  },
  {
   "cell_type": "code",
   "execution_count": 141,
   "metadata": {},
   "outputs": [
    {
     "name": "stdout",
     "output_type": "stream",
     "text": [
      "21\n"
     ]
    },
    {
     "data": {
      "text/plain": [
       "0.9370476190476191"
      ]
     },
     "execution_count": 141,
     "metadata": {},
     "output_type": "execute_result"
    }
   ],
   "source": [
    "w = [-2,7] # начальное приближение не влияет\n",
    "k = 0.2 # при уменьшении длины шага увеличивается число итераций; при длинных шагах алгоритм не сходится\n",
    "\n",
    "for n_iter in range(10000):\n",
    "    old_w = w.copy()\n",
    "    for i in range(2):\n",
    "        s = 0\n",
    "        for j in range(0, l):\n",
    "            s += y[j] * X[i+1][j] * (1 - 1/(1 + exp(- y[j] * (old_w[0] * X[1][j] + old_w[1] * X[2][j])))) - k * C * old_w[i]\n",
    "        w[i] += k * s/l\n",
    "    if np.linalg.norm(np.array(w) - np.array(old_w)) < e:\n",
    "        print(n_iter)\n",
    "        break\n",
    "\n",
    "est = [sigmoid(w, X.iloc[i, :].tolist()) for i in range(X.shape[0])]\n",
    "roc_auc_score(y, est)"
   ]
  },
  {
   "cell_type": "code",
   "execution_count": null,
   "metadata": {},
   "outputs": [],
   "source": []
  }
 ],
 "metadata": {
  "kernelspec": {
   "display_name": "Python 3 (ipykernel)",
   "language": "python",
   "name": "python3"
  },
  "language_info": {
   "codemirror_mode": {
    "name": "ipython",
    "version": 3
   },
   "file_extension": ".py",
   "mimetype": "text/x-python",
   "name": "python",
   "nbconvert_exporter": "python",
   "pygments_lexer": "ipython3",
   "version": "3.9.6"
  }
 },
 "nbformat": 4,
 "nbformat_minor": 2
}
