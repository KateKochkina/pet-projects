{
 "cells": [
  {
   "cell_type": "code",
   "execution_count": 51,
   "metadata": {},
   "outputs": [],
   "source": [
    "import numpy as np\n",
    "import pandas as pd\n",
    "from sklearn.model_selection import train_test_split\n",
    "from sklearn.ensemble import GradientBoostingClassifier, RandomForestClassifier\n",
    "from sklearn.metrics import log_loss\n",
    "import matplotlib.pyplot as plt\n",
    "%matplotlib inline"
   ]
  },
  {
   "cell_type": "code",
   "execution_count": 25,
   "metadata": {},
   "outputs": [
    {
     "data": {
      "text/html": [
       "<div>\n",
       "<style scoped>\n",
       "    .dataframe tbody tr th:only-of-type {\n",
       "        vertical-align: middle;\n",
       "    }\n",
       "\n",
       "    .dataframe tbody tr th {\n",
       "        vertical-align: top;\n",
       "    }\n",
       "\n",
       "    .dataframe thead th {\n",
       "        text-align: right;\n",
       "    }\n",
       "</style>\n",
       "<table border=\"1\" class=\"dataframe\">\n",
       "  <thead>\n",
       "    <tr style=\"text-align: right;\">\n",
       "      <th></th>\n",
       "      <th>Activity</th>\n",
       "      <th>D1</th>\n",
       "      <th>D2</th>\n",
       "      <th>D3</th>\n",
       "      <th>D4</th>\n",
       "      <th>D5</th>\n",
       "      <th>D6</th>\n",
       "      <th>D7</th>\n",
       "      <th>D8</th>\n",
       "      <th>D9</th>\n",
       "      <th>...</th>\n",
       "      <th>D1767</th>\n",
       "      <th>D1768</th>\n",
       "      <th>D1769</th>\n",
       "      <th>D1770</th>\n",
       "      <th>D1771</th>\n",
       "      <th>D1772</th>\n",
       "      <th>D1773</th>\n",
       "      <th>D1774</th>\n",
       "      <th>D1775</th>\n",
       "      <th>D1776</th>\n",
       "    </tr>\n",
       "  </thead>\n",
       "  <tbody>\n",
       "    <tr>\n",
       "      <th>0</th>\n",
       "      <td>1</td>\n",
       "      <td>0.000000</td>\n",
       "      <td>0.497009</td>\n",
       "      <td>0.10</td>\n",
       "      <td>0.0</td>\n",
       "      <td>0.132956</td>\n",
       "      <td>0.678031</td>\n",
       "      <td>0.273166</td>\n",
       "      <td>0.585445</td>\n",
       "      <td>0.743663</td>\n",
       "      <td>...</td>\n",
       "      <td>0</td>\n",
       "      <td>0</td>\n",
       "      <td>0</td>\n",
       "      <td>0</td>\n",
       "      <td>0</td>\n",
       "      <td>0</td>\n",
       "      <td>0</td>\n",
       "      <td>0</td>\n",
       "      <td>0</td>\n",
       "      <td>0</td>\n",
       "    </tr>\n",
       "    <tr>\n",
       "      <th>1</th>\n",
       "      <td>1</td>\n",
       "      <td>0.366667</td>\n",
       "      <td>0.606291</td>\n",
       "      <td>0.05</td>\n",
       "      <td>0.0</td>\n",
       "      <td>0.111209</td>\n",
       "      <td>0.803455</td>\n",
       "      <td>0.106105</td>\n",
       "      <td>0.411754</td>\n",
       "      <td>0.836582</td>\n",
       "      <td>...</td>\n",
       "      <td>1</td>\n",
       "      <td>1</td>\n",
       "      <td>1</td>\n",
       "      <td>1</td>\n",
       "      <td>0</td>\n",
       "      <td>1</td>\n",
       "      <td>0</td>\n",
       "      <td>0</td>\n",
       "      <td>1</td>\n",
       "      <td>0</td>\n",
       "    </tr>\n",
       "    <tr>\n",
       "      <th>2</th>\n",
       "      <td>1</td>\n",
       "      <td>0.033300</td>\n",
       "      <td>0.480124</td>\n",
       "      <td>0.00</td>\n",
       "      <td>0.0</td>\n",
       "      <td>0.209791</td>\n",
       "      <td>0.610350</td>\n",
       "      <td>0.356453</td>\n",
       "      <td>0.517720</td>\n",
       "      <td>0.679051</td>\n",
       "      <td>...</td>\n",
       "      <td>0</td>\n",
       "      <td>0</td>\n",
       "      <td>0</td>\n",
       "      <td>0</td>\n",
       "      <td>0</td>\n",
       "      <td>0</td>\n",
       "      <td>0</td>\n",
       "      <td>0</td>\n",
       "      <td>0</td>\n",
       "      <td>0</td>\n",
       "    </tr>\n",
       "    <tr>\n",
       "      <th>3</th>\n",
       "      <td>1</td>\n",
       "      <td>0.000000</td>\n",
       "      <td>0.538825</td>\n",
       "      <td>0.00</td>\n",
       "      <td>0.5</td>\n",
       "      <td>0.196344</td>\n",
       "      <td>0.724230</td>\n",
       "      <td>0.235606</td>\n",
       "      <td>0.288764</td>\n",
       "      <td>0.805110</td>\n",
       "      <td>...</td>\n",
       "      <td>0</td>\n",
       "      <td>0</td>\n",
       "      <td>0</td>\n",
       "      <td>0</td>\n",
       "      <td>0</td>\n",
       "      <td>0</td>\n",
       "      <td>0</td>\n",
       "      <td>0</td>\n",
       "      <td>0</td>\n",
       "      <td>0</td>\n",
       "    </tr>\n",
       "    <tr>\n",
       "      <th>4</th>\n",
       "      <td>0</td>\n",
       "      <td>0.100000</td>\n",
       "      <td>0.517794</td>\n",
       "      <td>0.00</td>\n",
       "      <td>0.0</td>\n",
       "      <td>0.494734</td>\n",
       "      <td>0.781422</td>\n",
       "      <td>0.154361</td>\n",
       "      <td>0.303809</td>\n",
       "      <td>0.812646</td>\n",
       "      <td>...</td>\n",
       "      <td>0</td>\n",
       "      <td>0</td>\n",
       "      <td>0</td>\n",
       "      <td>0</td>\n",
       "      <td>0</td>\n",
       "      <td>0</td>\n",
       "      <td>0</td>\n",
       "      <td>0</td>\n",
       "      <td>0</td>\n",
       "      <td>0</td>\n",
       "    </tr>\n",
       "  </tbody>\n",
       "</table>\n",
       "<p>5 rows × 1777 columns</p>\n",
       "</div>"
      ],
      "text/plain": [
       "   Activity        D1        D2    D3   D4        D5        D6        D7  \\\n",
       "0         1  0.000000  0.497009  0.10  0.0  0.132956  0.678031  0.273166   \n",
       "1         1  0.366667  0.606291  0.05  0.0  0.111209  0.803455  0.106105   \n",
       "2         1  0.033300  0.480124  0.00  0.0  0.209791  0.610350  0.356453   \n",
       "3         1  0.000000  0.538825  0.00  0.5  0.196344  0.724230  0.235606   \n",
       "4         0  0.100000  0.517794  0.00  0.0  0.494734  0.781422  0.154361   \n",
       "\n",
       "         D8        D9  ...  D1767  D1768  D1769  D1770  D1771  D1772  D1773  \\\n",
       "0  0.585445  0.743663  ...      0      0      0      0      0      0      0   \n",
       "1  0.411754  0.836582  ...      1      1      1      1      0      1      0   \n",
       "2  0.517720  0.679051  ...      0      0      0      0      0      0      0   \n",
       "3  0.288764  0.805110  ...      0      0      0      0      0      0      0   \n",
       "4  0.303809  0.812646  ...      0      0      0      0      0      0      0   \n",
       "\n",
       "   D1774  D1775  D1776  \n",
       "0      0      0      0  \n",
       "1      0      1      0  \n",
       "2      0      0      0  \n",
       "3      0      0      0  \n",
       "4      0      0      0  \n",
       "\n",
       "[5 rows x 1777 columns]"
      ]
     },
     "execution_count": 25,
     "metadata": {},
     "output_type": "execute_result"
    }
   ],
   "source": [
    "df = pd.read_csv('data/gbm-data.csv')\n",
    "df.head()"
   ]
  },
  {
   "cell_type": "code",
   "execution_count": 4,
   "metadata": {},
   "outputs": [],
   "source": [
    "X = df.iloc[:, 1:]\n",
    "y = df['Activity']\n",
    "X_train, X_test, y_train, y_test = train_test_split(X, y, test_size=0.8, random_state=241)"
   ]
  },
  {
   "cell_type": "code",
   "execution_count": 46,
   "metadata": {
    "scrolled": false
   },
   "outputs": [
    {
     "name": "stdout",
     "output_type": "stream",
     "text": [
      "      Iter       Train Loss   Remaining Time \n",
      "         1           1.0190           14.00s\n",
      "         2           0.9192           13.84s\n",
      "         3           0.8272           12.06s\n",
      "         4           0.7834           10.75s\n",
      "         5           0.7109           10.55s\n",
      "         6           0.6368           11.15s\n",
      "         7           0.5797           11.05s\n",
      "         8           0.5610           10.34s\n",
      "         9           0.5185           10.11s\n",
      "        10           0.4984            9.65s\n",
      "        20           0.1999            9.09s\n",
      "        30           0.1313            7.97s\n",
      "        40           0.0790            7.52s\n",
      "        50           0.0511            7.66s\n",
      "        60           0.0352            7.81s\n",
      "        70           0.0245            7.49s\n",
      "        80           0.0162            6.91s\n",
      "        90           0.0114            6.34s\n",
      "       100           0.0077            5.88s\n",
      "       200           0.0004            1.67s\n",
      "      Iter       Train Loss   Remaining Time \n",
      "         1           1.1255           13.73s\n",
      "         2           1.0035           13.57s\n",
      "         3           0.9386           13.36s\n",
      "         4           0.8844           12.13s\n",
      "         5           0.8381           11.97s\n",
      "         6           0.7995           11.38s\n",
      "         7           0.7559           10.99s\n",
      "         8           0.7205           10.76s\n",
      "         9           0.6958           10.40s\n",
      "        10           0.6725           10.18s\n",
      "        20           0.4672            8.81s\n",
      "        30           0.3179            8.38s\n",
      "        40           0.2274            8.13s\n",
      "        50           0.1774            7.57s\n",
      "        60           0.1394            7.13s\n",
      "        70           0.1050            6.78s\n",
      "        80           0.0805            6.38s\n",
      "        90           0.0650            6.14s\n",
      "       100           0.0511            6.14s\n",
      "       200           0.0058            1.87s\n",
      "      Iter       Train Loss   Remaining Time \n",
      "         1           1.2095           13.43s\n",
      "         2           1.1006           13.52s\n",
      "         3           1.0240           13.40s\n",
      "         4           0.9729           13.39s\n",
      "         5           0.9387           12.47s\n",
      "         6           0.8948           12.59s\n",
      "         7           0.8621           12.09s\n",
      "         8           0.8360           11.53s\n",
      "         9           0.8171           11.06s\n",
      "        10           0.7883           10.96s\n",
      "        20           0.6164            9.25s\n",
      "        30           0.4933            8.45s\n",
      "        40           0.4248            7.60s\n",
      "        50           0.3345            7.33s\n",
      "        60           0.2760            7.29s\n",
      "        70           0.2263            7.73s\n",
      "        80           0.1971            7.29s\n",
      "        90           0.1693            6.79s\n",
      "       100           0.1388            6.45s\n",
      "       200           0.0294            1.99s\n",
      "      Iter       Train Loss   Remaining Time \n",
      "         1           1.2613           13.13s\n",
      "         2           1.1715           13.37s\n",
      "         3           1.1009           13.22s\n",
      "         4           1.0529           13.20s\n",
      "         5           1.0130           13.49s\n",
      "         6           0.9740           14.10s\n",
      "         7           0.9475           13.63s\n",
      "         8           0.9197           14.10s\n",
      "         9           0.8979           13.74s\n",
      "        10           0.8730           13.95s\n",
      "        20           0.7207           12.95s\n",
      "        30           0.6055           12.25s\n",
      "        40           0.5244           10.58s\n",
      "        50           0.4501            9.46s\n",
      "        60           0.3908            8.60s\n",
      "        70           0.3372            7.93s\n",
      "        80           0.3009            7.34s\n",
      "        90           0.2603            6.83s\n",
      "       100           0.2327            6.28s\n",
      "       200           0.0835            1.89s\n",
      "      Iter       Train Loss   Remaining Time \n",
      "         1           1.3199           13.24s\n",
      "         2           1.2645           13.29s\n",
      "         3           1.2170           13.17s\n",
      "         4           1.1775           13.29s\n",
      "         5           1.1404           13.39s\n",
      "         6           1.1106           13.30s\n",
      "         7           1.0844           13.19s\n",
      "         8           1.0617           13.18s\n",
      "         9           1.0411           13.13s\n",
      "        10           1.0223           13.05s\n",
      "        20           0.8864           11.62s\n",
      "        30           0.7844           10.24s\n",
      "        40           0.7176            9.15s\n",
      "        50           0.6590            8.35s\n",
      "        60           0.6120            7.70s\n",
      "        70           0.5599            7.24s\n",
      "        80           0.5242            6.70s\n",
      "        90           0.4829            6.27s\n",
      "       100           0.4473            5.85s\n",
      "       200           0.2379            1.83s\n"
     ]
    },
    {
     "data": {
      "image/png": "[encoded data removed]",
      "text/plain": [
       "<Figure size 432x288 with 1 Axes>"
      ]
     },
     "metadata": {
      "needs_background": "light"
     },
     "output_type": "display_data"
    },
    {
     "data": {
      "image/png": "[encoded data removed]",
      "text/plain": [
       "<Figure size 432x288 with 1 Axes>"
      ]
     },
     "metadata": {
      "needs_background": "light"
     },
     "output_type": "display_data"
    },
    {
     "data": {
      "image/png": "[encoded data removed]",
      "text/plain": [
       "<Figure size 432x288 with 1 Axes>"
      ]
     },
     "metadata": {
      "needs_background": "light"
     },
     "output_type": "display_data"
    },
    {
     "data": {
      "image/png": "[encoded data removed]",
      "text/plain": [
       "<Figure size 432x288 with 1 Axes>"
      ]
     },
     "metadata": {
      "needs_background": "light"
     },
     "output_type": "display_data"
    },
    {
     "data": {
      "image/png": "[encoded data removed]",
      "text/plain": [
       "<Figure size 432x288 with 1 Axes>"
      ]
     },
     "metadata": {
      "needs_background": "light"
     },
     "output_type": "display_data"
    }
   ],
   "source": [
    "rates = [1, 0.5, 0.3, 0.2, 0.1]\n",
    "min_loss = []\n",
    "\n",
    "for rate in rates:\n",
    "    clf = GradientBoostingClassifier(learning_rate=rate, n_estimators=250, verbose=True, random_state=241)\n",
    "    clf.fit(X_train, y_train)\n",
    "    \n",
    "    loss_train = []\n",
    "    score_gen_train = clf.staged_decision_function(X_train)\n",
    "    for score in score_gen_train:\n",
    "        y_pred = [1 / (1 + np.exp(-s)) for s in score]\n",
    "        loss_train.append(log_loss(y_train, y_pred))\n",
    "    \n",
    "    loss_test = []\n",
    "    score_gen_test = clf.staged_decision_function(X_test)\n",
    "    for score in score_gen_test:\n",
    "        y_pred = [1 / (1 + np.exp(-s)) for s in score]\n",
    "        loss_test.append(log_loss(y_test, y_pred))\n",
    "    \n",
    "    min_loss.append(min(loss_test))\n",
    "    if rate == 0.2:\n",
    "        loss_test_02 = loss_test\n",
    "    \n",
    "    plt.figure()\n",
    "    plt.plot(loss_train, 'g', linewidth=2)\n",
    "    plt.plot(loss_test, 'r', linewidth=2)\n",
    "    plt.legend([f'train_{rate}', f'test_{rate}'])"
   ]
  },
  {
   "cell_type": "code",
   "execution_count": 49,
   "metadata": {
    "scrolled": true
   },
   "outputs": [
    {
     "name": "stdout",
     "output_type": "stream",
     "text": [
      "[0.5822942594278475, 0.5560965876181979, 0.5432596932316428, 0.5314949511258739, 0.5254924770369842]\n",
      "0.53 36\n"
     ]
    }
   ],
   "source": [
    "print(min_loss)\n",
    "n_iter = np.argmin(loss_test_02)\n",
    "print(f'{loss_test_02[n_iter]:0.2f}', n_iter)"
   ]
  },
  {
   "cell_type": "code",
   "execution_count": 60,
   "metadata": {},
   "outputs": [
    {
     "name": "stdout",
     "output_type": "stream",
     "text": [
      "0.54\n"
     ]
    }
   ],
   "source": [
    "clf = RandomForestClassifier(n_estimators=36, random_state=241) #если взять n_estimators=1000 будет лучше результат\n",
    "clf.fit(X_train, y_train)\n",
    "pred = clf.predict_proba(X_test)\n",
    "loss = log_loss(y_test, pred)\n",
    "print(f'{loss:0.2f}')"
   ]
  },
  {
   "cell_type": "code",
   "execution_count": null,
   "metadata": {},
   "outputs": [],
   "source": []
  }
 ],
 "metadata": {
  "kernelspec": {
   "display_name": "Python 3",
   "language": "python",
   "name": "python3"
  },
  "language_info": {
   "codemirror_mode": {
    "name": "ipython",
    "version": 3
   },
   "file_extension": ".py",
   "mimetype": "text/x-python",
   "name": "python",
   "nbconvert_exporter": "python",
   "pygments_lexer": "ipython3",
   "version": "3.7.3"
  }
 },
 "nbformat": 4,
 "nbformat_minor": 2
}
