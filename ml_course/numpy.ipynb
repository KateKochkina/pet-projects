{
 "cells": [
  {
   "cell_type": "code",
   "execution_count": 1,
   "metadata": {},
   "outputs": [],
   "source": [
    "import numpy as np"
   ]
  },
  {
   "cell_type": "code",
   "execution_count": 3,
   "metadata": {},
   "outputs": [
    {
     "name": "stdout",
     "output_type": "stream",
     "text": [
      "[[ -1.28007788 -14.26283466 -13.89789743 ...   0.54805109  -5.81762108\n",
      "    7.30327946]\n",
      " [ -1.19071454 -10.01778037  10.28166984 ... -16.46666851   3.13987861\n",
      "   -4.24872159]\n",
      " [ -7.50734084  26.89777697  14.28955038 ... -11.79100572   3.15676547\n",
      "    1.91508187]\n",
      " ...\n",
      " [  8.64797776  -4.12127804  -2.60551269 ...   3.94319596  -2.77655596\n",
      "   13.73452679]\n",
      " [ 11.90033859  11.17918259   8.48681827 ...  -1.20057289  -9.98776258\n",
      "   -0.33040447]\n",
      " [-10.71184234   9.9194316   -4.58470826 ...   9.79699353  -9.04096337\n",
      "    8.5819028 ]]\n"
     ]
    }
   ],
   "source": [
    "X = np.random.normal(loc=1, scale=10, size=(1000, 50))\n",
    "print(X)"
   ]
  },
  {
   "cell_type": "code",
   "execution_count": 5,
   "metadata": {},
   "outputs": [
    {
     "name": "stdout",
     "output_type": "stream",
     "text": [
      "[[-0.28657769 -1.50201908 -1.48330833 ...  0.0075628  -0.69832767\n",
      "   0.70103914]\n",
      " [-0.27753262 -1.08077735  0.9136095  ... -1.65543137  0.19237048\n",
      "  -0.50855121]\n",
      " [-0.91688109  2.58239676  1.31091025 ... -1.19843883  0.19404964\n",
      "   0.13685015]\n",
      " ...\n",
      " [ 0.71830797 -0.4956605  -0.36389548 ...  0.33939936 -0.39593624\n",
      "   1.3744441 ]\n",
      " [ 1.04750141  1.02262218  0.73568606 ... -0.16334519 -1.11298995\n",
      "  -0.0982709 ]\n",
      " [-1.24123036  0.89761561 -0.56009292 ...  0.9115411  -1.018844\n",
      "   0.83492162]]\n"
     ]
    }
   ],
   "source": [
    "m = np.mean(X, axis=0)\n",
    "std = np.std(X, axis=0)\n",
    "X_norm = ((X - m) / std)\n",
    "print(X_norm)"
   ]
  },
  {
   "cell_type": "code",
   "execution_count": 6,
   "metadata": {},
   "outputs": [
    {
     "name": "stdout",
     "output_type": "stream",
     "text": [
      "(array([1, 4, 5]),)\n"
     ]
    }
   ],
   "source": [
    "Z = np.array([[4, 5, 0], \n",
    "             [1, 9, 3],              \n",
    "             [5, 1, 1],\n",
    "             [3, 3, 3], \n",
    "             [9, 9, 9], \n",
    "             [4, 7, 1]])\n",
    "r = np.sum(Z, axis=1)\n",
    "print(np.nonzero(r > 10))"
   ]
  },
  {
   "cell_type": "code",
   "execution_count": 10,
   "metadata": {},
   "outputs": [
    {
     "name": "stdout",
     "output_type": "stream",
     "text": [
      "[[1. 0. 0.]\n",
      " [0. 1. 0.]\n",
      " [0. 0. 1.]\n",
      " [1. 0. 0.]\n",
      " [0. 1. 0.]\n",
      " [0. 0. 1.]]\n"
     ]
    }
   ],
   "source": [
    "A = np.eye(3)\n",
    "B = np.eye(3)\n",
    "AB = np.vstack((A, B))\n",
    "print(AB)"
   ]
  }
 ],
 "metadata": {
  "kernelspec": {
   "display_name": "Python 3",
   "language": "python",
   "name": "python3"
  },
  "language_info": {
   "codemirror_mode": {
    "name": "ipython",
    "version": 3
   },
   "file_extension": ".py",
   "mimetype": "text/x-python",
   "name": "python",
   "nbconvert_exporter": "python",
   "pygments_lexer": "ipython3",
   "version": "3.7.3"
  }
 },
 "nbformat": 4,
 "nbformat_minor": 2
}
