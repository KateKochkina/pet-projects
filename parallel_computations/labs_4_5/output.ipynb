{
 "cells": [
  {
   "cell_type": "code",
   "execution_count": 212,
   "id": "d126b341",
   "metadata": {},
   "outputs": [],
   "source": [
    "import numpy as np\n",
    "import pandas as pd\n",
    "import matplotlib.pyplot as plt\n",
    "import json"
   ]
  },
  {
   "cell_type": "code",
   "execution_count": 213,
   "id": "5f703555",
   "metadata": {},
   "outputs": [
    {
     "name": "stdout",
     "output_type": "stream",
     "text": [
      "[7.842, 4.149, 2.749, 2.059, 1.68, 1.418, 1.229, 1.103, 0.984, 0.901, 0.82, 0.772]\n"
     ]
    }
   ],
   "source": [
    "print([float(x.split('\\n')[0]) for x in '''\n",
    "np = 1\n",
    "Time mpi: 7.842\n",
    "\n",
    "np = 2\n",
    "Time mpi: 4.149\n",
    "\n",
    "np = 3\n",
    "Time mpi: 2.749\n",
    "\n",
    "np = 4\n",
    "Time mpi: 2.059\n",
    "\n",
    "np = 5\n",
    "Time mpi: 1.68\n",
    "\n",
    "np = 6\n",
    "Time mpi: 1.418\n",
    "\n",
    "np = 7\n",
    "Time mpi: 1.229\n",
    "\n",
    "np = 8\n",
    "Time mpi: 1.103\n",
    "\n",
    "np = 9\n",
    "Time mpi: 0.984\n",
    "\n",
    "np = 10\n",
    "Time mpi: 0.901\n",
    "\n",
    "np = 11\n",
    "Time mpi: 0.82\n",
    "\n",
    "np = 12\n",
    "Time mpi: 0.772\n",
    "'''.split('Time mpi: ')[1:]])"
   ]
  },
  {
   "cell_type": "code",
   "execution_count": 214,
   "id": "756e8893",
   "metadata": {},
   "outputs": [],
   "source": [
    "def s_p(p, a=0.5):\n",
    "    return 1.0 / (a + (1 - a) / p)"
   ]
  },
  {
   "cell_type": "code",
   "execution_count": 267,
   "id": "cae35fc1",
   "metadata": {},
   "outputs": [
    {
     "data": {
      "text/plain": [
       "[1.0,\n",
       " 1.0,\n",
       " 3.8091610322826397,\n",
       " 1.0,\n",
       " 5.529953917050691,\n",
       " 1.0,\n",
       " 7.100381645513446,\n",
       " 1.0,\n",
       " 8.707009142359599,\n",
       " 1.0,\n",
       " 9.213051823416507]"
      ]
     },
     "execution_count": 267,
     "metadata": {},
     "output_type": "execute_result"
    }
   ],
   "source": [
    "alpha = [1, 1, 0.0167, 1, 0.0170, 1, 0.0181, 1, 0.0165, 1, 0.0275]\n",
    "[s_p(i + 2, a) for i, a in enumerate(alpha)] # - acc[1:]"
   ]
  },
  {
   "cell_type": "code",
   "execution_count": null,
   "id": "d76fc528",
   "metadata": {},
   "outputs": [],
   "source": [
    "3 машины\n",
    "\n",
    "np = 3\n",
    "nth = 1\n",
    "N = 10000\n",
    "\n",
    "Time mpi + omp: 2.788\n",
    "np = 2\n",
    "nth = 1\n",
    "N = 10000\n",
    "\n",
    "Time mpi + omp: 4.079\n",
    "    \n",
    "1 машина\n",
    "\n",
    "np = 3\n",
    "nth = 1\n",
    "N = 10000\n",
    "\n",
    "Time mpi + omp: 2.867\n",
    "np = 2\n",
    "nth = 1\n",
    "N = 10000\n",
    "\n",
    "Time mpi + omp: 4.252"
   ]
  },
  {
   "cell_type": "code",
   "execution_count": 269,
   "id": "69621346",
   "metadata": {},
   "outputs": [],
   "source": [
    "t1 = 7.961\n",
    "cols = ['name', 'time, sec']\n",
    "data = [\n",
    "    ['2 процесса на разных узлах', 4.079],\n",
    "    ['2 процесса на одном узле', 4.132],\n",
    "    ['3 процесса на разных узлах', 2.788],\n",
    "    ['3 процесса на одном узле', 2.867],\n",
    "#     ['4 потока на одном узле', 2.06, 3.81359],\n",
    "#     ['8 потоков на двух узлах', 1.283, 6.12315],\n",
    "#     ['12 потоков на трех узлах', 0.941, 8.34857],\n",
    "]\n",
    "df_4 = pd.DataFrame(data, columns=cols).set_index('name')\n",
    "df_4['acceleration'] = round(t1 / df_4['time, sec'], 3)\n",
    "# df_4 = df_4[['acceleration']]"
   ]
  },
  {
   "cell_type": "code",
   "execution_count": 217,
   "id": "62730262",
   "metadata": {},
   "outputs": [],
   "source": [
    "cols = ['N \\ bs', '32', '1024']\n",
    "data = [\n",
    "    ['13.000', 5.49, 5.61],\n",
    "    ['10.000', 4.38, 3.76],\n",
    "    ['20.000', 4.73, 4.65],\n",
    "    ['40.000', 6.49, 6.42]\n",
    "]\n",
    "df_5 = pd.DataFrame(data, columns=cols).set_index('N \\ bs')"
   ]
  },
  {
   "cell_type": "code",
   "execution_count": 218,
   "id": "41248111",
   "metadata": {},
   "outputs": [],
   "source": [
    "cols = ['', 'GeForce 9XX', 'Tesla T4']\n",
    "data = [\n",
    "    ['N=10.000, bs=32', 4.38, 8.29],\n",
    "    ['N=20.000, bs=32', 4.73, 10.12],\n",
    "    ['N=40.000, bs=32', 6.49, 11.16],\n",
    "]\n",
    "df_5_t4 = pd.DataFrame(data, columns=cols).set_index('')"
   ]
  },
  {
   "cell_type": "code",
   "execution_count": 277,
   "id": "6cf0877d",
   "metadata": {},
   "outputs": [],
   "source": [
    "cols = ['N \\ bs', '32', '1024']\n",
    "data = [\n",
    "    ['10.000', 4.38, 3.76],\n",
    "    ['(new) 10.000', 7.87, 21.16],\n",
    "    ['20.000', 4.73, 4.65],\n",
    "    ['(new) 20.000', 30.98, 52.91],\n",
    "    ['40.000', 6.49, 6.42],\n",
    "    ['(new) 40.000', 121.65, 121.84],\n",
    "]\n",
    "df_5_new = pd.DataFrame(data, columns=cols).set_index('N \\ bs')"
   ]
  },
  {
   "cell_type": "code",
   "execution_count": 268,
   "id": "dc135178",
   "metadata": {
    "scrolled": false
   },
   "outputs": [
    {
     "data": {
      "image/png": "[encoded data removed]",
      "text/plain": [
       "<Figure size 432x288 with 1 Axes>"
      ]
     },
     "metadata": {
      "needs_background": "light"
     },
     "output_type": "display_data"
    },
    {
     "name": "stdout",
     "output_type": "stream",
     "text": [
      "N = 10000 (MPI)\n",
      "{\n",
      "    2: 1.877,\n",
      "    3: 2.773,\n",
      "    4: 3.647,\n",
      "    5: 4.465,\n",
      "    6: 5.227,\n",
      "    7: 6.004,\n",
      "    8: 6.707,\n",
      "    9: 7.385,\n",
      "    10: 8.025,\n",
      "    11: 8.625,\n",
      "    12: 9.214\n",
      "}\n"
     ]
    }
   ],
   "source": [
    "t = np.array([7.842, 4.149, 2.749, 2.059,\n",
    "              1.68, 1.418, 1.229, 1.103,\n",
    "              0.984, 0.901, 0.82, 0.772])\n",
    "t = np.array([7.841, 8.217, 8.217, 8.217,\n",
    "              8.217, 8.217, 8.217, 8.217,\n",
    "              8.217,8.217, 8.217, 0.724])\n",
    "t = np.array([7.961, 4.242, 2.871, 2.183,\n",
    "              1.783, 1.523, 1.326, 1.187,\n",
    "              1.078, 0.992, 0.923, 0.864])\n",
    "acc = t[0] / t\n",
    "rng = range(1, len(acc) + 1)\n",
    "a = 0.0275\n",
    "amd = [s_p(p, a=a) for p in range(1, 12 + 1)]\n",
    "\n",
    "ax = plt.subplot(1, 1, 1)\n",
    "ax.plot(rng, amd, '--', color='b', label=f'з-н Амдала ({100*a}%)')\n",
    "# ax.scatter(rng, amd, color='g')\n",
    "# ax.plot(rng, acc, color='k')\n",
    "ax.scatter(rng, acc, color='r', label='ускорение')\n",
    "plt.xticks(rng)\n",
    "plt.legend()\n",
    "plt.show()\n",
    "\n",
    "print(f\"\"\"N = 10000 (MPI)\n",
    "{json.dumps({i+2: f'{x:.3f}' for i, x in enumerate(acc[1:])}, indent=4).replace('\"','')}\"\"\")"
   ]
  },
  {
   "cell_type": "markdown",
   "id": "b8416bed",
   "metadata": {},
   "source": [
    "### Сравнение результатов для различных пар (np, nth)"
   ]
  },
  {
   "cell_type": "code",
   "execution_count": 270,
   "id": "0935d182",
   "metadata": {},
   "outputs": [
    {
     "data": {
      "text/html": [
       "<div>\n",
       "<style scoped>\n",
       "    .dataframe tbody tr th:only-of-type {\n",
       "        vertical-align: middle;\n",
       "    }\n",
       "\n",
       "    .dataframe tbody tr th {\n",
       "        vertical-align: top;\n",
       "    }\n",
       "\n",
       "    .dataframe thead th {\n",
       "        text-align: right;\n",
       "    }\n",
       "</style>\n",
       "<table border=\"1\" class=\"dataframe\">\n",
       "  <thead>\n",
       "    <tr style=\"text-align: right;\">\n",
       "      <th></th>\n",
       "      <th>time, sec</th>\n",
       "      <th>acceleration</th>\n",
       "    </tr>\n",
       "    <tr>\n",
       "      <th>name</th>\n",
       "      <th></th>\n",
       "      <th></th>\n",
       "    </tr>\n",
       "  </thead>\n",
       "  <tbody>\n",
       "    <tr>\n",
       "      <th>2 процесса на разных узлах</th>\n",
       "      <td>4.079</td>\n",
       "      <td>1.952</td>\n",
       "    </tr>\n",
       "    <tr>\n",
       "      <th>2 процесса на одном узле</th>\n",
       "      <td>4.132</td>\n",
       "      <td>1.927</td>\n",
       "    </tr>\n",
       "    <tr>\n",
       "      <th>3 процесса на разных узлах</th>\n",
       "      <td>2.788</td>\n",
       "      <td>2.855</td>\n",
       "    </tr>\n",
       "    <tr>\n",
       "      <th>3 процесса на одном узле</th>\n",
       "      <td>2.867</td>\n",
       "      <td>2.777</td>\n",
       "    </tr>\n",
       "  </tbody>\n",
       "</table>\n",
       "</div>"
      ],
      "text/plain": [
       "                            time, sec  acceleration\n",
       "name                                               \n",
       "2 процесса на разных узлах      4.079         1.952\n",
       "2 процесса на одном узле        4.132         1.927\n",
       "3 процесса на разных узлах      2.788         2.855\n",
       "3 процесса на одном узле        2.867         2.777"
      ]
     },
     "execution_count": 270,
     "metadata": {},
     "output_type": "execute_result"
    }
   ],
   "source": [
    "df_4"
   ]
  },
  {
   "cell_type": "markdown",
   "id": "136d8a96",
   "metadata": {},
   "source": [
    "### Сравнение результатов для различных пар (N, bs)"
   ]
  },
  {
   "cell_type": "code",
   "execution_count": 221,
   "id": "5fbed7a8",
   "metadata": {},
   "outputs": [
    {
     "data": {
      "text/html": [
       "<div>\n",
       "<style scoped>\n",
       "    .dataframe tbody tr th:only-of-type {\n",
       "        vertical-align: middle;\n",
       "    }\n",
       "\n",
       "    .dataframe tbody tr th {\n",
       "        vertical-align: top;\n",
       "    }\n",
       "\n",
       "    .dataframe thead th {\n",
       "        text-align: right;\n",
       "    }\n",
       "</style>\n",
       "<table border=\"1\" class=\"dataframe\">\n",
       "  <thead>\n",
       "    <tr style=\"text-align: right;\">\n",
       "      <th></th>\n",
       "      <th>32</th>\n",
       "      <th>1024</th>\n",
       "    </tr>\n",
       "    <tr>\n",
       "      <th>N \\ bs</th>\n",
       "      <th></th>\n",
       "      <th></th>\n",
       "    </tr>\n",
       "  </thead>\n",
       "  <tbody>\n",
       "    <tr>\n",
       "      <th>13.000</th>\n",
       "      <td>5.49</td>\n",
       "      <td>5.61</td>\n",
       "    </tr>\n",
       "    <tr>\n",
       "      <th>10.000</th>\n",
       "      <td>4.38</td>\n",
       "      <td>3.76</td>\n",
       "    </tr>\n",
       "    <tr>\n",
       "      <th>20.000</th>\n",
       "      <td>4.73</td>\n",
       "      <td>4.65</td>\n",
       "    </tr>\n",
       "    <tr>\n",
       "      <th>40.000</th>\n",
       "      <td>6.49</td>\n",
       "      <td>6.42</td>\n",
       "    </tr>\n",
       "  </tbody>\n",
       "</table>\n",
       "</div>"
      ],
      "text/plain": [
       "          32  1024\n",
       "N \\ bs            \n",
       "13.000  5.49  5.61\n",
       "10.000  4.38  3.76\n",
       "20.000  4.73  4.65\n",
       "40.000  6.49  6.42"
      ]
     },
     "execution_count": 221,
     "metadata": {},
     "output_type": "execute_result"
    }
   ],
   "source": [
    "df_5"
   ]
  },
  {
   "cell_type": "markdown",
   "id": "7d7b2588",
   "metadata": {},
   "source": [
    "То же самое с нормальным sqrt<br>\n",
    "И с добавлением sharedMemory"
   ]
  },
  {
   "cell_type": "markdown",
   "id": "f222dfef",
   "metadata": {},
   "source": [
    "### Сравнение результатов для двух карт"
   ]
  },
  {
   "cell_type": "code",
   "execution_count": 222,
   "id": "56a4f7d0",
   "metadata": {},
   "outputs": [
    {
     "data": {
      "text/html": [
       "<div>\n",
       "<style scoped>\n",
       "    .dataframe tbody tr th:only-of-type {\n",
       "        vertical-align: middle;\n",
       "    }\n",
       "\n",
       "    .dataframe tbody tr th {\n",
       "        vertical-align: top;\n",
       "    }\n",
       "\n",
       "    .dataframe thead th {\n",
       "        text-align: right;\n",
       "    }\n",
       "</style>\n",
       "<table border=\"1\" class=\"dataframe\">\n",
       "  <thead>\n",
       "    <tr style=\"text-align: right;\">\n",
       "      <th></th>\n",
       "      <th>GeForce 9XX</th>\n",
       "      <th>Tesla T4</th>\n",
       "    </tr>\n",
       "    <tr>\n",
       "      <th></th>\n",
       "      <th></th>\n",
       "      <th></th>\n",
       "    </tr>\n",
       "  </thead>\n",
       "  <tbody>\n",
       "    <tr>\n",
       "      <th>N=10.000, bs=32</th>\n",
       "      <td>4.38</td>\n",
       "      <td>8.29</td>\n",
       "    </tr>\n",
       "    <tr>\n",
       "      <th>N=20.000, bs=32</th>\n",
       "      <td>4.73</td>\n",
       "      <td>10.12</td>\n",
       "    </tr>\n",
       "    <tr>\n",
       "      <th>N=40.000, bs=32</th>\n",
       "      <td>6.49</td>\n",
       "      <td>11.16</td>\n",
       "    </tr>\n",
       "  </tbody>\n",
       "</table>\n",
       "</div>"
      ],
      "text/plain": [
       "                 GeForce 9XX  Tesla T4\n",
       "                                      \n",
       "N=10.000, bs=32         4.38      8.29\n",
       "N=20.000, bs=32         4.73     10.12\n",
       "N=40.000, bs=32         6.49     11.16"
      ]
     },
     "execution_count": 222,
     "metadata": {},
     "output_type": "execute_result"
    }
   ],
   "source": [
    "df_5_t4"
   ]
  },
  {
   "cell_type": "markdown",
   "id": "5621dc78",
   "metadata": {},
   "source": [
    "### Сравнение результатов ускорений с использованием __register__, __shared__ памяти и без"
   ]
  },
  {
   "cell_type": "code",
   "execution_count": 278,
   "id": "a4807fd7",
   "metadata": {},
   "outputs": [
    {
     "data": {
      "text/html": [
       "<div>\n",
       "<style scoped>\n",
       "    .dataframe tbody tr th:only-of-type {\n",
       "        vertical-align: middle;\n",
       "    }\n",
       "\n",
       "    .dataframe tbody tr th {\n",
       "        vertical-align: top;\n",
       "    }\n",
       "\n",
       "    .dataframe thead th {\n",
       "        text-align: right;\n",
       "    }\n",
       "</style>\n",
       "<table border=\"1\" class=\"dataframe\">\n",
       "  <thead>\n",
       "    <tr style=\"text-align: right;\">\n",
       "      <th></th>\n",
       "      <th>32</th>\n",
       "      <th>1024</th>\n",
       "    </tr>\n",
       "    <tr>\n",
       "      <th>N \\ bs</th>\n",
       "      <th></th>\n",
       "      <th></th>\n",
       "    </tr>\n",
       "  </thead>\n",
       "  <tbody>\n",
       "    <tr>\n",
       "      <th>10.000</th>\n",
       "      <td>4.38</td>\n",
       "      <td>3.76</td>\n",
       "    </tr>\n",
       "    <tr>\n",
       "      <th>(new) 10.000</th>\n",
       "      <td>7.87</td>\n",
       "      <td>21.16</td>\n",
       "    </tr>\n",
       "    <tr>\n",
       "      <th>20.000</th>\n",
       "      <td>4.73</td>\n",
       "      <td>4.65</td>\n",
       "    </tr>\n",
       "    <tr>\n",
       "      <th>(new) 20.000</th>\n",
       "      <td>30.98</td>\n",
       "      <td>52.91</td>\n",
       "    </tr>\n",
       "    <tr>\n",
       "      <th>40.000</th>\n",
       "      <td>6.49</td>\n",
       "      <td>6.42</td>\n",
       "    </tr>\n",
       "    <tr>\n",
       "      <th>(new) 40.000</th>\n",
       "      <td>121.65</td>\n",
       "      <td>121.84</td>\n",
       "    </tr>\n",
       "  </tbody>\n",
       "</table>\n",
       "</div>"
      ],
      "text/plain": [
       "                  32    1024\n",
       "N \\ bs                      \n",
       "10.000          4.38    3.76\n",
       "(new) 10.000    7.87   21.16\n",
       "20.000          4.73    4.65\n",
       "(new) 20.000   30.98   52.91\n",
       "40.000          6.49    6.42\n",
       "(new) 40.000  121.65  121.84"
      ]
     },
     "execution_count": 278,
     "metadata": {},
     "output_type": "execute_result"
    }
   ],
   "source": [
    "df_5_new"
   ]
  },
  {
   "cell_type": "code",
   "execution_count": null,
   "id": "df6218da",
   "metadata": {},
   "outputs": [],
   "source": []
  }
 ],
 "metadata": {
  "kernelspec": {
   "display_name": "Python 3 (ipykernel)",
   "language": "python",
   "name": "python3"
  },
  "language_info": {
   "codemirror_mode": {
    "name": "ipython",
    "version": 3
   },
   "file_extension": ".py",
   "mimetype": "text/x-python",
   "name": "python",
   "nbconvert_exporter": "python",
   "pygments_lexer": "ipython3",
   "version": "3.9.6"
  }
 },
 "nbformat": 4,
 "nbformat_minor": 5
}
