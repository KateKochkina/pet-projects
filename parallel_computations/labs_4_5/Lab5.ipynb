{
  "nbformat": 4,
  "nbformat_minor": 0,
  "metadata": {
    "colab": {
      "name": "Lab5",
      "provenance": [],
      "collapsed_sections": []
    },
    "kernelspec": {
      "name": "python3",
      "display_name": "Python 3"
    },
    "language_info": {
      "name": "python"
    },
    "accelerator": "GPU"
  },
  "cells": [
    {
      "cell_type": "code",
      "execution_count": 1,
      "metadata": {
        "colab": {
          "base_uri": "https://localhost:8080/"
        },
        "id": "P4cj-XJzfMki",
        "outputId": "79ce4188-82a9-4e43-d768-d2593e37d75b"
      },
      "outputs": [
        {
          "output_type": "stream",
          "name": "stdout",
          "text": [
            "Fri Jan 21 10:38:15 2022       \n",
            "+-----------------------------------------------------------------------------+\n",
            "| NVIDIA-SMI 495.46       Driver Version: 460.32.03    CUDA Version: 11.2     |\n",
            "|-------------------------------+----------------------+----------------------+\n",
            "| GPU  Name        Persistence-M| Bus-Id        Disp.A | Volatile Uncorr. ECC |\n",
            "| Fan  Temp  Perf  Pwr:Usage/Cap|         Memory-Usage | GPU-Util  Compute M. |\n",
            "|                               |                      |               MIG M. |\n",
            "|===============================+======================+======================|\n",
            "|   0  Tesla K80           Off  | 00000000:00:04.0 Off |                    0 |\n",
            "| N/A   71C    P8    33W / 149W |      0MiB / 11441MiB |      0%      Default |\n",
            "|                               |                      |                  N/A |\n",
            "+-------------------------------+----------------------+----------------------+\n",
            "                                                                               \n",
            "+-----------------------------------------------------------------------------+\n",
            "| Processes:                                                                  |\n",
            "|  GPU   GI   CI        PID   Type   Process name                  GPU Memory |\n",
            "|        ID   ID                                                   Usage      |\n",
            "|=============================================================================|\n",
            "|  No running processes found                                                 |\n",
            "+-----------------------------------------------------------------------------+\n"
          ]
        }
      ],
      "source": [
        "!nvidia-smi"
      ]
    },
    {
      "cell_type": "code",
      "source": [
        "# %%writefile main.cu"
      ],
      "metadata": {
        "id": "oEXCjepqpmkT"
      },
      "execution_count": null,
      "outputs": []
    },
    {
      "cell_type": "code",
      "source": [
        "%%writefile main.cu\n",
        "#include \"cuda_runtime.h\"\n",
        "#include \"device_launch_parameters.h\"\n",
        "#include <chrono>\n",
        "#include <fstream>\n",
        "#include <functional>\n",
        "#include <iomanip>\n",
        "#include <iostream>\n",
        "#include <random>\n",
        "#include <vector>\n",
        "\n",
        "using namespace std;\n",
        "\n",
        "const int N = 40000;\n",
        "const int BS = 256;\n",
        "__device__ const double G = 6.67e-11;\n",
        "\n",
        "\n",
        "template<typename T>\n",
        "ostream& operator<<(ostream& stream, const vector<T>& vec) {\n",
        "    for (auto it = vec.begin(); it != vec.end(); ++it) {\n",
        "        stream << *it;\n",
        "    }\n",
        "    return stream;\n",
        "}\n",
        "\n",
        "__global__ void plus_product(double* result, double* lhs, double tau, double* rhs, int n) {\n",
        "    int idx = blockIdx.x * blockDim.x + threadIdx.x;\n",
        "    if (idx < n) {\n",
        "        result[idx] = lhs[idx] + tau * rhs[idx];\n",
        "    }\n",
        "}\n",
        "\n",
        "__global__ void plus_equal_product(double* result, double tau, double* rhs, int n) {\n",
        "    int idx = blockIdx.x * blockDim.x + threadIdx.x;\n",
        "    if (idx < n) {\n",
        "        result[idx] += tau * rhs[idx];\n",
        "    }\n",
        "}\n",
        "\n",
        "__global__ void calc_k(double* result, double* pos_vel, double* masses, int n) {\n",
        "    double eps = 1e-15;\n",
        "    int idx = blockIdx.x * blockDim.x + threadIdx.x;\n",
        "    if (idx < n) {\n",
        "        result[3 * idx + 0] = pos_vel[3 * n + 3 * idx + 0];\n",
        "        result[3 * idx + 1] = pos_vel[3 * n + 3 * idx + 1];\n",
        "        result[3 * idx + 2] = pos_vel[3 * n + 3 * idx + 2];\n",
        "        double a_x = 0.0, a_y = 0.0, a_z = 0.0;\n",
        "        double dist3, coef;\n",
        "        for (int j = 0; j < n; ++j) {\n",
        "            dist3 = pow(pow(pos_vel[3 * idx + 0] - pos_vel[3 * j + 0], 2) +\n",
        "                                pow(pos_vel[3 * idx + 1] - pos_vel[3 * j + 1], 2) +\n",
        "                                pow(pos_vel[3 * idx + 2] - pos_vel[3 * j + 2], 2),\n",
        "                        3.0 / 2);\n",
        "            coef = -G * masses[j] / max(dist3, eps);\n",
        "            a_x += coef * (pos_vel[3 * idx + 0] - pos_vel[3 * j + 0]);\n",
        "            a_y += coef * (pos_vel[3 * idx + 1] - pos_vel[3 * j + 1]);\n",
        "            a_z += coef * (pos_vel[3 * idx + 2] - pos_vel[3 * j + 2]);\n",
        "        }\n",
        "        result[3 * n + 3 * idx + 0] = a_x;\n",
        "        result[3 * n + 3 * idx + 1] = a_y;\n",
        "        result[3 * n + 3 * idx + 2] = a_z;\n",
        "    }\n",
        "}\n",
        "\n",
        "void runge_kutta_2(const vector<double>& init, const vector<double>& masses, double t_max, double tau,\n",
        "                   int print_every_n, const string& file_name) {\n",
        "    ofstream stream(file_name);\n",
        "    int size = init.size();\n",
        "    int n = masses.size();\n",
        "    int step_num = 0;\n",
        "    double t_cur = 0.0;\n",
        "    vector<double> p_cur(init), p_mid(init), k(init);\n",
        "    stream << setprecision(10) << t_cur << \" \" << p_cur << '\\n';\n",
        "\n",
        "    double *d_p_cur, *d_p_mid, *d_masses, *d_k;\n",
        "    cudaMalloc(&d_p_cur, size * sizeof(double));\n",
        "    cudaMalloc(&d_p_mid, size * sizeof(double));\n",
        "    cudaMalloc(&d_masses, n * sizeof(double));\n",
        "    cudaMalloc(&d_k, size * sizeof(double));\n",
        "\n",
        "    cudaEvent_t start, stop;\n",
        "    cudaEventCreate(&start);\n",
        "    cudaEventCreate(&stop);\n",
        "    float elapsed_time;\n",
        "    float exec_time = 0.0, copy_time = 0.0;\n",
        "\n",
        "    cudaEventRecord(start);\n",
        "    /* copy masses and p(t) to device */\n",
        "    cudaMemcpy(d_p_cur, p_cur.data(), size * sizeof(double), cudaMemcpyHostToDevice);\n",
        "    cudaMemcpy(d_masses, masses.data(), n * sizeof(double), cudaMemcpyHostToDevice);\n",
        "    /* end of record */\n",
        "    cudaEventRecord(stop);\n",
        "    cudaEventSynchronize(stop);\n",
        "    cudaEventElapsedTime(&elapsed_time, start, stop);\n",
        "    copy_time += elapsed_time;\n",
        "\n",
        "    while (t_cur < t_max) {\n",
        "        t_cur += tau;\n",
        "\n",
        "        cudaEventRecord(start);\n",
        "        /* k(t) = { v(t), a(t) } */\n",
        "        calc_k<<<(n + BS) / BS, BS>>>(d_k, d_p_cur, d_masses, n);\n",
        "        /* p(t + tau/2) = p(t) + tau / 2 * k(t) */\n",
        "        plus_product<<<(size + BS) / BS, BS>>>(d_p_mid, d_p_cur, tau / 2, d_k, size);\n",
        "        /* k(t + tau/2) = { v(t + tau/2), a(t + tau/2) } */\n",
        "        calc_k<<<(n + BS) / BS, BS>>>(d_k, d_p_mid, d_masses, n);\n",
        "        /* p(t + tau) += tau * k(t + tau/2) */\n",
        "        plus_equal_product<<<(size + BS) / BS, BS>>>(d_p_cur, tau, d_k, size);\n",
        "        /* end of record */\n",
        "        cudaEventRecord(stop);\n",
        "        cudaEventSynchronize(stop);\n",
        "        cudaEventElapsedTime(&elapsed_time, start, stop);\n",
        "        exec_time += elapsed_time;\n",
        "\n",
        "        cudaEventRecord(start);\n",
        "        /* copy p(t + tau) to host */\n",
        "        cudaMemcpy(p_cur.data(), d_p_cur, size * sizeof(double), cudaMemcpyDeviceToHost);\n",
        "        /* end of record */\n",
        "        cudaEventRecord(stop);\n",
        "        cudaEventSynchronize(stop);\n",
        "        cudaEventElapsedTime(&elapsed_time, start, stop);\n",
        "        copy_time += elapsed_time;\n",
        "\n",
        "        if (++step_num % print_every_n == 0) {\n",
        "            stream << setprecision(10) << t_cur << \" \" << p_cur << '\\n';\n",
        "        }\n",
        "    }\n",
        "\n",
        "    cudaDeviceSynchronize();\n",
        "\n",
        "    cudaFree(d_p_cur);\n",
        "    cudaFree(d_p_mid);\n",
        "    cudaFree(d_masses);\n",
        "    cudaFree(d_k);\n",
        "    cout << \"Time exec: \" << exec_time / 1000.0 << endl;\n",
        "    cout << \"Time copy: \" << copy_time / 1000.0 << endl;\n",
        "}\n",
        "\n",
        "int main(int argc, char** argv) {\n",
        "    /* part 1 data init */\n",
        "    vector<double> input_data = {1.0, 0.0, 0.0, 0.0, 0.9, 0.0,\n",
        "                                 0.0, 1.0, 0.0, -0.9, 0.0, 0.0,\n",
        "                                 -1.0, 0.0, 0.0, 0.0, -0.9, 0.0,\n",
        "                                 0.0, -1.0, 0.0, 0.9, 0.0, 0.0};\n",
        "    vector<double> masses = {8810324116.227, 8810324116.227, 8810324116.227, 8810324116.227};\n",
        "    vector<double> init(input_data.size());\n",
        "    for (int i = 0; i < init.size() / 6; ++i) {\n",
        "        init[3 * i + 0] = input_data[6 * i + 0];\n",
        "        init[3 * i + 1] = input_data[6 * i + 1];\n",
        "        init[3 * i + 2] = input_data[6 * i + 2];\n",
        "        init[init.size() / 2 + 3 * i + 0] = input_data[6 * i + 3];\n",
        "        init[init.size() / 2 + 3 * i + 1] = input_data[6 * i + 4];\n",
        "        init[init.size() / 2 + 3 * i + 2] = input_data[6 * i + 5];\n",
        "    }\n",
        "\n",
        "    /* part 1 calc */\n",
        "    // runge_kutta_2(init, masses, 20, 0.01, 10, \"./cuda.txt\");\n",
        "\n",
        "    /* distributions init */\n",
        "    std::random_device seeder;\n",
        "    const auto seed = seeder.entropy() ? seeder() : time(nullptr);\n",
        "    std::mt19937 rnd_gen(static_cast<std::mt19937::result_type>(seed));\n",
        "    std::uniform_real_distribution<double> distr_pos(-10.0, 10.0);\n",
        "    std::uniform_real_distribution<double> distr_vel(-1.0, 1.0);\n",
        "    std::uniform_real_distribution<double> distr_mass(0.1, 10.0);\n",
        "    auto rnd_pos = std::bind(distr_pos, rnd_gen);\n",
        "    auto rnd_vel = std::bind(distr_vel, rnd_gen);\n",
        "    auto rnd_mas = std::bind(distr_mass, rnd_gen);\n",
        "\n",
        "    /* part 2 data init */\n",
        "    init.resize(6 * N);\n",
        "    for (int i = 0; i < 3 * N; ++i) {\n",
        "        init[i] = rnd_pos();\n",
        "    }\n",
        "    for (int i = 3 * N; i < 6 * N; ++i) {\n",
        "        init[i] = rnd_vel();\n",
        "    }\n",
        "    masses.resize(N);\n",
        "    for (int i = 0; i < N; ++i) {\n",
        "        masses[i] = rnd_mas();\n",
        "    }\n",
        "\n",
        "    cout << \"N: \" << N << \"\\n\\n\";\n",
        "\n",
        "    /* part 2 calc (cuda) */\n",
        "    auto t1 = chrono::high_resolution_clock::now();\n",
        "    runge_kutta_2(init, masses, 0.1, 0.05, 1, \"./cuda_10000.txt\");\n",
        "    auto t2 = chrono::high_resolution_clock::now();\n",
        "    cout << \"Time cuda: \" << chrono::duration_cast<chrono::milliseconds>(t2 - t1).count() / 1000.0 << endl;\n",
        "\n",
        "    return 0;\n",
        "}"
      ],
      "metadata": {
        "colab": {
          "base_uri": "https://localhost:8080/"
        },
        "id": "y84QwPeKrP1T",
        "outputId": "d5e702a6-8382-4c07-e656-c175673a5240"
      },
      "execution_count": null,
      "outputs": [
        {
          "output_type": "stream",
          "name": "stdout",
          "text": [
            "Overwriting main.cu\n"
          ]
        }
      ]
    },
    {
      "cell_type": "code",
      "source": [
        "!nvcc -arch=sm_75 -std=c++11 -O2 -o run -Wno-deprecated-gpu-targets main.cu\n",
        "# sm37 (K80)\n",
        "# sm75 (T4)\n",
        "# -gencode arch=compute_52,code=sm_52"
      ],
      "metadata": {
        "id": "5wOvvSkDfnYH"
      },
      "execution_count": null,
      "outputs": []
    },
    {
      "cell_type": "code",
      "source": [
        "!./run"
      ],
      "metadata": {
        "colab": {
          "base_uri": "https://localhost:8080/"
        },
        "id": "_SjWXwB7fsTL",
        "outputId": "35e8d304-dbd7-47b3-f0c4-3c61bd8248d8"
      },
      "execution_count": null,
      "outputs": [
        {
          "output_type": "stream",
          "name": "stdout",
          "text": [
            "N: 40000\n",
            "\n",
            "Time exec: 21.2751\n",
            "Time copy: 0.001752\n",
            "Time cuda: 21.661\n"
          ]
        }
      ]
    },
    {
      "cell_type": "markdown",
      "source": [
        "* N: 10000\n",
        "\n",
        "Time exec: 5.41399<br>\n",
        "Time copy: 0.000518016<br>\n",
        "\n",
        "Time cuda: 5.724 (Tesla T4)<br>\n",
        "Time seq: ?\n",
        "\n",
        "* N: 20000\n",
        "\n",
        "Time exec: 10.7356<br>\n",
        "Time copy: 0.00101994<br>\n",
        "\n",
        "Time cuda: 11.123 (Tesla T4)<br>\n",
        "Time seq: ?\n",
        "\n",
        "* N: 30000\n",
        "\n",
        "Time exec: 15.9645<br>\n",
        "Time copy: 0.00133862<br>\n",
        "Time cuda: 16.421 (Tesla T4)<br>\n",
        "Time seq: ?"
      ],
      "metadata": {
        "id": "6D4X4S6ChQYT"
      }
    },
    {
      "cell_type": "code",
      "source": [
        "%%writefile main1.cu\n",
        "#include \"cuda_runtime.h\"\n",
        "#include \"device_launch_parameters.h\"\n",
        "#include <chrono>\n",
        "#include <fstream>\n",
        "#include <functional>\n",
        "#include <iomanip>\n",
        "#include <iostream>\n",
        "#include <random>\n",
        "#include <vector>\n",
        "\n",
        "using namespace std;\n",
        "\n",
        "int N = 10000;\n",
        "int BS = 1024;\n",
        "__device__ const double G = 6.67e-11;\n",
        "__device__ const double EPS = 1e-15;\n",
        "\n",
        "\n",
        "template<typename T>\n",
        "ostream& operator<<(ostream& stream, const vector<T>& vec) {\n",
        "    for (auto it = vec.begin(); it != vec.end(); ++it) {\n",
        "        stream << \" \" << *it;\n",
        "    }\n",
        "    return stream;\n",
        "}\n",
        "\n",
        "__global__ void plus_product(double* result, double* lhs, double tau, double* rhs, int n) {\n",
        "    int idx = blockIdx.x * blockDim.x + threadIdx.x;\n",
        "    if (idx < n) {\n",
        "        result[idx] = lhs[idx] + tau * rhs[idx];\n",
        "    }\n",
        "}\n",
        "\n",
        "__global__ void plus_equal_product(double* result, double tau, double* rhs, int n) {\n",
        "    int idx = blockIdx.x * blockDim.x + threadIdx.x;\n",
        "    if (idx < n) {\n",
        "        result[idx] += tau * rhs[idx];\n",
        "    }\n",
        "}\n",
        "\n",
        "//__global__ void calc_k(double* result, double* pos_vel, double* masses, int n) {\n",
        "//    int idx = blockIdx.x * blockDim.x + threadIdx.x;\n",
        "//    if (idx < n) {\n",
        "//        result[3 * idx + 0] = pos_vel[3 * n + 3 * idx + 0];\n",
        "//        result[3 * idx + 1] = pos_vel[3 * n + 3 * idx + 1];\n",
        "//        result[3 * idx + 2] = pos_vel[3 * n + 3 * idx + 2];\n",
        "//        double a_x = 0.0, a_y = 0.0, a_z = 0.0;\n",
        "//        double dist3, coef;\n",
        "//        for (int j = 0; j < n; ++j) {\n",
        "//            dist3 = pow(pow(pos_vel[3 * idx + 0] - pos_vel[3 * j + 0], 2) +\n",
        "//                                pow(pos_vel[3 * idx + 1] - pos_vel[3 * j + 1], 2) +\n",
        "//                                pow(pos_vel[3 * idx + 2] - pos_vel[3 * j + 2], 2),\n",
        "//                        3.0 / 2);\n",
        "//            coef = masses[j] / max(dist3, EPS);\n",
        "//            a_x += coef * (pos_vel[3 * idx + 0] - pos_vel[3 * j + 0]);\n",
        "//            a_y += coef * (pos_vel[3 * idx + 1] - pos_vel[3 * j + 1]);\n",
        "//            a_z += coef * (pos_vel[3 * idx + 2] - pos_vel[3 * j + 2]);\n",
        "//        }\n",
        "//        result[3 * n + 3 * idx + 0] = -G * a_x;\n",
        "//        result[3 * n + 3 * idx + 1] = -G * a_y;\n",
        "//        result[3 * n + 3 * idx + 2] = -G * a_z;\n",
        "//    }\n",
        "//}\n",
        "\n",
        "__device__ double sqr(double x) {\n",
        "    return x * x;\n",
        "}\n",
        "\n",
        "__global__ void calc_k(double* result, double* pos_vel, double* masses, int n) {\n",
        "    int idx = blockIdx.x * blockDim.x + threadIdx.x;\n",
        "    if (idx < n) {\n",
        "        result[3 * idx] = pos_vel[3 * n + 3 * idx];\n",
        "        result[3 * idx + 1] = pos_vel[3 * n + 3 * idx + 1];\n",
        "        result[3 * idx + 2] = pos_vel[3 * n + 3 * idx + 2];\n",
        "\n",
        "        /* copy all positions to shared memory */\n",
        "        extern __shared__ double pos[];\n",
        "        pos[3 * idx] = pos_vel[3 * idx];\n",
        "        pos[3 * idx + 1] = pos_vel[3 * idx + 1];\n",
        "        pos[3 * idx + 2] = pos_vel[3 * idx + 2];\n",
        "        /* copy all masses to shared memory */\n",
        "        extern __shared__ double mas[];\n",
        "        mas[idx] = masses[idx];\n",
        "        __syncthreads();\n",
        "        /* copy [idx] position to register memory */\n",
        "        double pos_idx[3] = {pos[3 * idx], pos[3 * idx + 1], pos[3 * idx + 2]};\n",
        "        /* initialize [idx] acceleration on register memory */\n",
        "        double acc[3] = {0.0, 0.0, 0.0};\n",
        "        /* initialize coefs on register memory */\n",
        "        double dist3, coef, diff[3];\n",
        "\n",
        "        for (int j = 0; j < n; ++j) {\n",
        "            diff[0] = pos[3 * j] - pos_idx[0];\n",
        "            diff[1] = pos[3 * j + 1] - pos_idx[1];\n",
        "            diff[2] = pos[3 * j + 2] - pos_idx[2];\n",
        "            dist3 = pow(sqr(diff[0]) + sqr(diff[1]) + sqr(diff[2]), 1.5);\n",
        "            coef = mas[j] / max(dist3, EPS);\n",
        "            acc[0] += coef * diff[0];\n",
        "            acc[1] += coef * diff[1];\n",
        "            acc[2] += coef * diff[2];\n",
        "        }\n",
        "        result[3 * n + 3 * idx + 0] = G * acc[0];\n",
        "        result[3 * n + 3 * idx + 1] = G * acc[1];\n",
        "        result[3 * n + 3 * idx + 2] = G * acc[2];\n",
        "    }\n",
        "}\n",
        "\n",
        "void runge_kutta_2(const vector<double>& init, const vector<double>& masses, double t_max, double tau,\n",
        "                   int print_every_n, const string& file_name) {\n",
        "    ofstream stream(file_name);\n",
        "    int n = masses.size();\n",
        "    int size = init.size();  // 6 * n\n",
        "    int step_num = 0;\n",
        "    double t_cur = 0.0;\n",
        "    vector<double> p_cur(init);\n",
        "    stream << setprecision(10) << t_cur << \" \" << p_cur << '\\n';\n",
        "\n",
        "    double *d_p_cur, *d_p_mid, *d_masses, *d_k;\n",
        "    cudaMalloc(&d_p_cur, size * sizeof(double));\n",
        "    cudaMalloc(&d_p_mid, size * sizeof(double));\n",
        "    cudaMalloc(&d_masses, n * sizeof(double));\n",
        "    cudaMalloc(&d_k, size * sizeof(double));\n",
        "\n",
        "    cudaEvent_t start, stop;\n",
        "    cudaEventCreate(&start);\n",
        "    cudaEventCreate(&stop);\n",
        "    float elapsed_time;\n",
        "    float exec_time = 0.0, copy_time = 0.0;\n",
        "\n",
        "    cudaEventRecord(start);\n",
        "    /* copy masses and p(t) to device */\n",
        "    cudaMemcpy(d_p_cur, p_cur.data(), size * sizeof(double), cudaMemcpyHostToDevice);\n",
        "    cudaMemcpy(d_masses, masses.data(), n * sizeof(double), cudaMemcpyHostToDevice);\n",
        "    /* end of record */\n",
        "    cudaEventRecord(stop);\n",
        "    cudaEventSynchronize(stop);\n",
        "    cudaEventElapsedTime(&elapsed_time, start, stop);\n",
        "    copy_time += elapsed_time;\n",
        "\n",
        "    while (t_cur < t_max) {\n",
        "        t_cur += tau;\n",
        "\n",
        "        cudaEventRecord(start);\n",
        "        /* k(t) = { v(t), a(t) } */\n",
        "        calc_k<<<(n + BS) / BS, BS>>>(d_k, d_p_cur, d_masses, n);\n",
        "        /* p(t + tau/2) = p(t) + tau / 2 * k(t) */\n",
        "        plus_product<<<(size + BS) / BS, BS>>>(d_p_mid, d_p_cur, tau / 2, d_k, size);\n",
        "        /* k(t + tau/2) = { v(t + tau/2), a(t + tau/2) } */\n",
        "        calc_k<<<(n + BS) / BS, BS>>>(d_k, d_p_mid, d_masses, n);\n",
        "        /* p(t + tau) += tau * k(t + tau/2) */\n",
        "        plus_equal_product<<<(size + BS) / BS, BS>>>(d_p_cur, tau, d_k, size);\n",
        "        /* end of record */\n",
        "        cudaEventRecord(stop);\n",
        "        cudaEventSynchronize(stop);\n",
        "        cudaEventElapsedTime(&elapsed_time, start, stop);\n",
        "        exec_time += elapsed_time;\n",
        "\n",
        "        cudaEventRecord(start);\n",
        "        /* copy p(t + tau) to host */\n",
        "        cudaMemcpy(p_cur.data(), d_p_cur, size * sizeof(double), cudaMemcpyDeviceToHost);\n",
        "        /* end of record */\n",
        "        cudaEventRecord(stop);\n",
        "        cudaEventSynchronize(stop);\n",
        "        cudaEventElapsedTime(&elapsed_time, start, stop);\n",
        "        copy_time += elapsed_time;\n",
        "\n",
        "        if (++step_num % print_every_n == 0) {\n",
        "            stream << setprecision(10) << t_cur << \" \" << p_cur << '\\n';\n",
        "        }\n",
        "    }\n",
        "\n",
        "    cudaDeviceSynchronize();\n",
        "\n",
        "    cudaFree(d_p_cur);\n",
        "    cudaFree(d_p_mid);\n",
        "    cudaFree(d_masses);\n",
        "    cudaFree(d_k);\n",
        "//    cout << \"Time exec: \" << exec_time / 1000.0 << endl;\n",
        "//    cout << \"Time copy: \" << copy_time / 1000.0 << endl;\n",
        "}\n",
        "\n",
        "int main(int argc, char** argv) {\n",
        "    // $./run N bs\n",
        "    if (argc > 1) {\n",
        "        N = stoi(argv[1]);\n",
        "    }\n",
        "    if (argc > 2) {\n",
        "        BS = stoi(argv[2]);\n",
        "    }\n",
        "    cout << \"N: \" << N << \"\\nbs: \" << BS << \"\\n\";\n",
        "\n",
        "    /* part 1 data init */\n",
        "    vector<double> input_data = {1.0, 0.0, 0.0, 0.0, 0.9, 0.0,\n",
        "                                 0.0, 1.0, 0.0, -0.9, 0.0, 0.0,\n",
        "                                 -1.0, 0.0, 0.0, 0.0, -0.9, 0.0,\n",
        "                                 0.0, -1.0, 0.0, 0.9, 0.0, 0.0};\n",
        "    vector<double> masses = {8810324116.227, 8810324116.227, 8810324116.227, 8810324116.227};\n",
        "    vector<double> init(input_data.size());\n",
        "    for (int i = 0; i < init.size() / 6; ++i) {\n",
        "        init[3 * i + 0] = input_data[6 * i + 0];\n",
        "        init[3 * i + 1] = input_data[6 * i + 1];\n",
        "        init[3 * i + 2] = input_data[6 * i + 2];\n",
        "        init[init.size() / 2 + 3 * i + 0] = input_data[6 * i + 3];\n",
        "        init[init.size() / 2 + 3 * i + 1] = input_data[6 * i + 4];\n",
        "        init[init.size() / 2 + 3 * i + 2] = input_data[6 * i + 5];\n",
        "    }\n",
        "\n",
        "    /* part 1 calc */\n",
        "    runge_kutta_2(init, masses, 20, 0.01, 10, \"./cuda.txt\");\n",
        "\n",
        "    /* distributions init */\n",
        "    std::random_device seeder;\n",
        "    const auto seed = seeder.entropy() ? seeder() : time(nullptr);\n",
        "    std::mt19937 rnd_gen(static_cast<std::mt19937::result_type>(seed));\n",
        "    std::uniform_real_distribution<double> distr_pos(-10.0, 10.0);\n",
        "    std::uniform_real_distribution<double> distr_vel(-1.0, 1.0);\n",
        "    std::uniform_real_distribution<double> distr_mass(0.1, 10.0);\n",
        "    auto rnd_pos = std::bind(distr_pos, rnd_gen);\n",
        "    auto rnd_vel = std::bind(distr_vel, rnd_gen);\n",
        "    auto rnd_mas = std::bind(distr_mass, rnd_gen);\n",
        "\n",
        "    /* part 2 data init */\n",
        "    init.resize(6 * N);\n",
        "    for (int i = 0; i < 3 * N; ++i) {\n",
        "        init[i] = rnd_pos();\n",
        "    }\n",
        "    for (int i = 3 * N; i < 6 * N; ++i) {\n",
        "        init[i] = rnd_vel();\n",
        "    }\n",
        "    masses.resize(N);\n",
        "    for (int i = 0; i < N; ++i) {\n",
        "        masses[i] = rnd_mas();\n",
        "    }\n",
        "\n",
        "    /* part 2 calc */\n",
        "    auto t1 = chrono::high_resolution_clock::now();\n",
        "    runge_kutta_2(init, masses, 0.1, 0.05, 1, \"./cuda_10000.txt\");\n",
        "    auto t2 = chrono::high_resolution_clock::now();\n",
        "    cout << \"Time cuda: \" << chrono::duration_cast<chrono::milliseconds>(t2 - t1).count() / 1000.0 << endl;\n",
        "\n",
        "    return 0;\n",
        "}"
      ],
      "metadata": {
        "colab": {
          "base_uri": "https://localhost:8080/"
        },
        "id": "XtKQcNGRPXSX",
        "outputId": "552f8cdb-30dd-4b88-c872-45778fdfcd88"
      },
      "execution_count": 2,
      "outputs": [
        {
          "output_type": "stream",
          "name": "stdout",
          "text": [
            "Writing main1.cu\n"
          ]
        }
      ]
    },
    {
      "cell_type": "code",
      "source": [
        "!nvcc -arch=sm_75 -std=c++11 -O2 -o run1 -Wno-deprecated-gpu-targets main1.cu"
      ],
      "metadata": {
        "id": "VUQ72_RsPdqG"
      },
      "execution_count": 13,
      "outputs": []
    },
    {
      "cell_type": "code",
      "source": [
        "!./run1"
      ],
      "metadata": {
        "colab": {
          "base_uri": "https://localhost:8080/"
        },
        "id": "MKvh-IPiLBeA",
        "outputId": "755235e0-7306-48eb-efc1-fa56e69ef6f8"
      },
      "execution_count": 14,
      "outputs": [
        {
          "output_type": "stream",
          "name": "stdout",
          "text": [
            "N: 10000\n",
            "bs: 1024\n",
            "Time cuda: 0.086\n"
          ]
        }
      ]
    },
    {
      "cell_type": "code",
      "source": [
        "# old\n",
        "!./run1 10000 32\n",
        "!echo \n",
        "!./run1 10000 1024\n",
        "!echo \n",
        "!./run1 40000 32\n",
        "!echo \n",
        "!./run1 40000 1024"
      ],
      "metadata": {
        "colab": {
          "base_uri": "https://localhost:8080/"
        },
        "id": "fdo-zz3_Pm74",
        "outputId": "7b3eecb4-9c82-4fc3-cbc1-8d624d14d7f1"
      },
      "execution_count": 20,
      "outputs": [
        {
          "output_type": "stream",
          "name": "stdout",
          "text": [
            "N: 10000\n",
            "bs: 32\n",
            "Time cuda: 1.76\n",
            "\n",
            "N: 10000\n",
            "bs: 1024\n",
            "Time cuda: 5.525\n",
            "\n",
            "N: 40000\n",
            "bs: 32\n",
            "Time cuda: 21.292\n",
            "\n",
            "N: 40000\n",
            "bs: 1024\n",
            "Time cuda: 21.45\n"
          ]
        }
      ]
    },
    {
      "cell_type": "code",
      "source": [
        "# pow -> sqr\n",
        "# pos_vel[3 * idx + k] -> __register__ \n",
        "!./run1 10000 32\n",
        "!echo \n",
        "!./run1 10000 1024\n",
        "!echo \n",
        "!./run1 40000 32\n",
        "!echo \n",
        "!./run1 40000 1024"
      ],
      "metadata": {
        "colab": {
          "base_uri": "https://localhost:8080/"
        },
        "id": "gtd8WbELuRsp",
        "outputId": "2200ec7f-bcf4-417e-f620-6da71bc27323"
      },
      "execution_count": 28,
      "outputs": [
        {
          "output_type": "stream",
          "name": "stdout",
          "text": [
            "N: 10000\n",
            "bs: 32\n",
            "Time cuda: 0.655\n",
            "\n",
            "N: 10000\n",
            "bs: 1024\n",
            "Time cuda: 1.771\n",
            "\n",
            "N: 40000\n",
            "bs: 32\n",
            "Time cuda: 6.488\n",
            "\n",
            "N: 40000\n",
            "bs: 1024\n",
            "Time cuda: 6.485\n"
          ]
        }
      ]
    },
    {
      "cell_type": "code",
      "source": [
        "# pow -> sqr\n",
        "# pos_vel[3 * idx + k] -> __register__ \n",
        "# pos_vel[3 * j + k] -> __shared__\n",
        "!./run1 10000 32\n",
        "!echo \n",
        "!./run1 10000 1024\n",
        "!echo\n",
        "!./run1 20000 32\n",
        "!echo \n",
        "!./run1 20000 1024\n",
        "!echo \n",
        "!./run1 40000 32\n",
        "!echo \n",
        "!./run1 40000 1024"
      ],
      "metadata": {
        "colab": {
          "base_uri": "https://localhost:8080/"
        },
        "id": "ZnGFYdkU9UnG",
        "outputId": "bab32219-a3e7-49ad-d508-0693a8d024c4"
      },
      "execution_count": 43,
      "outputs": [
        {
          "output_type": "stream",
          "name": "stdout",
          "text": [
            "N: 10000\n",
            "bs: 32\n",
            "Time cuda: 1.798\n",
            "\n",
            "N: 10000\n",
            "bs: 1024\n",
            "Time cuda: 0.661\n",
            "\n",
            "N: 20000\n",
            "bs: 32\n",
            "Time cuda: 1.884\n",
            "\n",
            "N: 20000\n",
            "bs: 1024\n",
            "Time cuda: 1.108\n",
            "\n",
            "N: 40000\n",
            "bs: 32\n",
            "Time cuda: 1.975\n",
            "\n",
            "N: 40000\n",
            "bs: 1024\n",
            "Time cuda: 1.971\n"
          ]
        }
      ]
    },
    {
      "cell_type": "code",
      "source": [
        "# Tesla K80\n",
        "!./run1 10000 32\n",
        "!echo \n",
        "!./run1 10000 1024\n",
        "!echo\n",
        "!./run1 20000 32\n",
        "!echo \n",
        "!./run1 20000 1024\n",
        "!echo \n",
        "!./run1 40000 32\n",
        "!echo \n",
        "!./run1 40000 1024"
      ],
      "metadata": {
        "colab": {
          "base_uri": "https://localhost:8080/"
        },
        "id": "JAigM5SFJwj-",
        "outputId": "7d3bb4ac-0b63-4656-cfcc-fb539c0fd759"
      },
      "execution_count": 3,
      "outputs": [
        {
          "output_type": "stream",
          "name": "stdout",
          "text": [
            "N: 10000\n",
            "bs: 32\n",
            "Time cuda: 0.263\n",
            "\n",
            "N: 10000\n",
            "bs: 1024\n",
            "Time cuda: 0.198\n",
            "\n",
            "N: 20000\n",
            "bs: 32\n",
            "Time cuda: 0.285\n",
            "\n",
            "N: 20000\n",
            "bs: 1024\n",
            "Time cuda: 0.273\n",
            "\n",
            "N: 40000\n",
            "bs: 32\n",
            "Time cuda: 0.427\n",
            "\n",
            "N: 40000\n",
            "bs: 1024\n",
            "Time cuda: 0.446\n"
          ]
        }
      ]
    },
    {
      "cell_type": "code",
      "source": [
        "240.749 / 0.427, 240.749 / 0.446"
      ],
      "metadata": {
        "colab": {
          "base_uri": "https://localhost:8080/"
        },
        "id": "thCEt8fFR4OO",
        "outputId": "5691b292-6bc1-498e-ee69-a16c566f56d4"
      },
      "execution_count": 5,
      "outputs": [
        {
          "output_type": "execute_result",
          "data": {
            "text/plain": [
              "(563.8149882903981, 539.7959641255605)"
            ]
          },
          "metadata": {},
          "execution_count": 5
        }
      ]
    },
    {
      "cell_type": "code",
      "source": [
        ""
      ],
      "metadata": {
        "id": "DAx8um4K_A_N"
      },
      "execution_count": null,
      "outputs": []
    }
  ]
}